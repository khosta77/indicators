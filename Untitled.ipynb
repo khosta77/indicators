{
 "cells": [
  {
   "cell_type": "code",
   "execution_count": 4,
   "id": "7c02b164",
   "metadata": {},
   "outputs": [],
   "source": [
    "import pandas as pd\n",
    "import numpy as np\n",
    "import matplotlib.pyplot as plt\n",
    "%matplotlib inline"
   ]
  },
  {
   "cell_type": "code",
   "execution_count": 15,
   "id": "849260aa",
   "metadata": {},
   "outputs": [],
   "source": [
    "gazp = pd.read_csv(\"./GAZP.csv\",delimiter=';')\n",
    "gazp.columns = gazp.columns.str.replace('<', '')\n",
    "gazp.columns = gazp.columns.str.replace('>', '')\n",
    "#gazp.columns = [\"DATE\", \"TIME\", \"OPEN\", \"HIGH\", \"LOW\", \"CLOSE\", \"VOL\"]"
   ]
  },
  {
   "cell_type": "code",
   "execution_count": 16,
   "id": "a48391ac",
   "metadata": {},
   "outputs": [
    {
     "data": {
      "text/html": [
       "<div>\n",
       "<style scoped>\n",
       "    .dataframe tbody tr th:only-of-type {\n",
       "        vertical-align: middle;\n",
       "    }\n",
       "\n",
       "    .dataframe tbody tr th {\n",
       "        vertical-align: top;\n",
       "    }\n",
       "\n",
       "    .dataframe thead th {\n",
       "        text-align: right;\n",
       "    }\n",
       "</style>\n",
       "<table border=\"1\" class=\"dataframe\">\n",
       "  <thead>\n",
       "    <tr style=\"text-align: right;\">\n",
       "      <th></th>\n",
       "      <th>DATE</th>\n",
       "      <th>TIME</th>\n",
       "      <th>OPEN</th>\n",
       "      <th>HIGH</th>\n",
       "      <th>LOW</th>\n",
       "      <th>CLOSE</th>\n",
       "      <th>VOL</th>\n",
       "    </tr>\n",
       "  </thead>\n",
       "  <tbody>\n",
       "    <tr>\n",
       "      <th>0</th>\n",
       "      <td>20211201</td>\n",
       "      <td>0</td>\n",
       "      <td>338.57</td>\n",
       "      <td>350.37</td>\n",
       "      <td>337.61</td>\n",
       "      <td>345.21</td>\n",
       "      <td>92906220</td>\n",
       "    </tr>\n",
       "    <tr>\n",
       "      <th>1</th>\n",
       "      <td>20211202</td>\n",
       "      <td>0</td>\n",
       "      <td>347.30</td>\n",
       "      <td>352.67</td>\n",
       "      <td>344.80</td>\n",
       "      <td>350.30</td>\n",
       "      <td>75360830</td>\n",
       "    </tr>\n",
       "    <tr>\n",
       "      <th>2</th>\n",
       "      <td>20211203</td>\n",
       "      <td>0</td>\n",
       "      <td>351.50</td>\n",
       "      <td>353.13</td>\n",
       "      <td>343.21</td>\n",
       "      <td>345.99</td>\n",
       "      <td>51627900</td>\n",
       "    </tr>\n",
       "    <tr>\n",
       "      <th>3</th>\n",
       "      <td>20211206</td>\n",
       "      <td>0</td>\n",
       "      <td>347.27</td>\n",
       "      <td>349.36</td>\n",
       "      <td>333.35</td>\n",
       "      <td>338.94</td>\n",
       "      <td>70924550</td>\n",
       "    </tr>\n",
       "    <tr>\n",
       "      <th>4</th>\n",
       "      <td>20211207</td>\n",
       "      <td>0</td>\n",
       "      <td>339.25</td>\n",
       "      <td>346.00</td>\n",
       "      <td>333.43</td>\n",
       "      <td>344.96</td>\n",
       "      <td>75507480</td>\n",
       "    </tr>\n",
       "  </tbody>\n",
       "</table>\n",
       "</div>"
      ],
      "text/plain": [
       "       DATE  TIME    OPEN    HIGH     LOW   CLOSE       VOL\n",
       "0  20211201     0  338.57  350.37  337.61  345.21  92906220\n",
       "1  20211202     0  347.30  352.67  344.80  350.30  75360830\n",
       "2  20211203     0  351.50  353.13  343.21  345.99  51627900\n",
       "3  20211206     0  347.27  349.36  333.35  338.94  70924550\n",
       "4  20211207     0  339.25  346.00  333.43  344.96  75507480"
      ]
     },
     "execution_count": 16,
     "metadata": {},
     "output_type": "execute_result"
    }
   ],
   "source": [
    "gazp.head()"
   ]
  },
  {
   "cell_type": "code",
   "execution_count": 44,
   "id": "df4984df",
   "metadata": {},
   "outputs": [
    {
     "data": {
      "text/html": [
       "<div>\n",
       "<style scoped>\n",
       "    .dataframe tbody tr th:only-of-type {\n",
       "        vertical-align: middle;\n",
       "    }\n",
       "\n",
       "    .dataframe tbody tr th {\n",
       "        vertical-align: top;\n",
       "    }\n",
       "\n",
       "    .dataframe thead th {\n",
       "        text-align: right;\n",
       "    }\n",
       "</style>\n",
       "<table border=\"1\" class=\"dataframe\">\n",
       "  <thead>\n",
       "    <tr style=\"text-align: right;\">\n",
       "      <th></th>\n",
       "      <th>SMA30</th>\n",
       "    </tr>\n",
       "  </thead>\n",
       "  <tbody>\n",
       "    <tr>\n",
       "      <th>231</th>\n",
       "      <td>168.033667</td>\n",
       "    </tr>\n",
       "    <tr>\n",
       "      <th>232</th>\n",
       "      <td>168.321000</td>\n",
       "    </tr>\n",
       "    <tr>\n",
       "      <th>233</th>\n",
       "      <td>168.455000</td>\n",
       "    </tr>\n",
       "    <tr>\n",
       "      <th>234</th>\n",
       "      <td>168.744667</td>\n",
       "    </tr>\n",
       "    <tr>\n",
       "      <th>235</th>\n",
       "      <td>168.921667</td>\n",
       "    </tr>\n",
       "  </tbody>\n",
       "</table>\n",
       "</div>"
      ],
      "text/plain": [
       "          SMA30\n",
       "231  168.033667\n",
       "232  168.321000\n",
       "233  168.455000\n",
       "234  168.744667\n",
       "235  168.921667"
      ]
     },
     "execution_count": 44,
     "metadata": {},
     "output_type": "execute_result"
    }
   ],
   "source": [
    "#Create a simple moving average with a 30 day window\n",
    "SMA_30 = pd.DataFrame()\n",
    "SMA_30['SMA30'] = gazp[\"OPEN\"].rolling(window=30).mean ()\n",
    "SMA_30.tail()"
   ]
  },
  {
   "cell_type": "code",
   "execution_count": 52,
   "id": "9a497f0f",
   "metadata": {},
   "outputs": [
    {
     "data": {
      "text/html": [
       "<div>\n",
       "<style scoped>\n",
       "    .dataframe tbody tr th:only-of-type {\n",
       "        vertical-align: middle;\n",
       "    }\n",
       "\n",
       "    .dataframe tbody tr th {\n",
       "        vertical-align: top;\n",
       "    }\n",
       "\n",
       "    .dataframe thead th {\n",
       "        text-align: right;\n",
       "    }\n",
       "</style>\n",
       "<table border=\"1\" class=\"dataframe\">\n",
       "  <thead>\n",
       "    <tr style=\"text-align: right;\">\n",
       "      <th></th>\n",
       "      <th>MySMA30</th>\n",
       "    </tr>\n",
       "  </thead>\n",
       "  <tbody>\n",
       "    <tr>\n",
       "      <th>231</th>\n",
       "      <td>167.803</td>\n",
       "    </tr>\n",
       "    <tr>\n",
       "      <th>232</th>\n",
       "      <td>168.034</td>\n",
       "    </tr>\n",
       "    <tr>\n",
       "      <th>233</th>\n",
       "      <td>168.321</td>\n",
       "    </tr>\n",
       "    <tr>\n",
       "      <th>234</th>\n",
       "      <td>168.455</td>\n",
       "    </tr>\n",
       "    <tr>\n",
       "      <th>235</th>\n",
       "      <td>168.745</td>\n",
       "    </tr>\n",
       "  </tbody>\n",
       "</table>\n",
       "</div>"
      ],
      "text/plain": [
       "     MySMA30\n",
       "231  167.803\n",
       "232  168.034\n",
       "233  168.321\n",
       "234  168.455\n",
       "235  168.745"
      ]
     },
     "execution_count": 52,
     "metadata": {},
     "output_type": "execute_result"
    }
   ],
   "source": [
    "MySMA = pd.read_csv(\"./SMA30_GAZP_OPEN2.csv\")\n",
    "MySMA.tail()"
   ]
  },
  {
   "cell_type": "code",
   "execution_count": 50,
   "id": "15b83157",
   "metadata": {},
   "outputs": [
    {
     "data": {
      "text/plain": [
       "[<matplotlib.lines.Line2D at 0x166820d90>]"
      ]
     },
     "execution_count": 50,
     "metadata": {},
     "output_type": "execute_result"
    },
    {
     "data": {
      "image/png": "[encoded data removed]",
      "text/plain": [
       "<Figure size 640x480 with 1 Axes>"
      ]
     },
     "metadata": {},
     "output_type": "display_data"
    }
   ],
   "source": [
    "plt.plot(SMA_30)\n",
    "plt.plot(gazp[\"OPEN\"])\n",
    "plt.plot(MySMA,\"--\")"
   ]
  },
  {
   "cell_type": "code",
   "execution_count": null,
   "id": "3650676d",
   "metadata": {},
   "outputs": [],
   "source": []
  }
 ],
 "metadata": {
  "kernelspec": {
   "display_name": "Python 3 (ipykernel)",
   "language": "python",
   "name": "python3"
  },
  "language_info": {
   "codemirror_mode": {
    "name": "ipython",
    "version": 3
   },
   "file_extension": ".py",
   "mimetype": "text/x-python",
   "name": "python",
   "nbconvert_exporter": "python",
   "pygments_lexer": "ipython3",
   "version": "3.10.8"
  }
 },
 "nbformat": 4,
 "nbformat_minor": 5
}
